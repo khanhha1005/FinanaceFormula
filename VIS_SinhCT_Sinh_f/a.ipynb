{
 "cells": [
  {
   "cell_type": "code",
   "execution_count": 1,
   "metadata": {},
   "outputs": [],
   "source": [
    "import pandas as pd\n",
    "import numpy as np\n",
    "import os\n",
    "data = pd.read_excel(\"Data_test.xlsx\")\n",
    "data = data[data[\"TIME\"] != 2023]\n",
    "# data"
   ]
  },
  {
   "cell_type": "code",
   "execution_count": 2,
   "metadata": {},
   "outputs": [
    {
     "name": "stdout",
     "output_type": "stream",
     "text": [
      "Các cột không được coi là biến: ['TIME', 'PROFIT', 'SYMBOL', 'VALUEARG', 'EXCHANGE']\n"
     ]
    }
   ],
   "source": [
    "from generator import Formula_generator\n",
    "vis = Formula_generator(data,\n",
    "                        generation_method=1,\n",
    "                        required_fields=[],\n",
    "                        multiple_cycles=True,\n",
    "                        investment_method=0,\n",
    "                        interest_rate=1.06,\n",
    "                        measurement_method=2,\n",
    "                        target=1.3,\n",
    "                        number_cycle = 3,\n",
    "                        max_loop = 10,\n",
    "                        diff_p_p_lim = 0.1)"
   ]
  },
  {
   "cell_type": "code",
   "execution_count": 3,
   "metadata": {},
   "outputs": [
    {
     "name": "stdout",
     "output_type": "stream",
     "text": [
      "Đã tạo thư mục lưu công thức\n",
      "Data_CT/\n",
      "Đang chạy sinh công thức, số toán hạng là 1\n",
      "Số phần tử trong 1 cụm 1\n",
      "Đã lưu lịch sử\n",
      "Đang chạy sinh công thức, số toán hạng là 2\n",
      "Số phần tử trong 1 cụm 1\n",
      "Số phần tử trong 1 cụm 2\n",
      "Đã lưu lịch sử\n",
      "Đang chạy sinh công thức, số toán hạng là 3\n",
      "Số phần tử trong 1 cụm 1\n",
      "Số phần tử trong 1 cụm 3\n",
      "Đã lưu lịch sử\n",
      "Đã lưu công thức\n",
      "Đang chạy sinh công thức, số toán hạng là 4\n",
      "Số phần tử trong 1 cụm 1\n",
      "Số phần tử trong 1 cụm 2\n",
      "Số phần tử trong 1 cụm 4\n",
      "Đã lưu lịch sử\n",
      "Đã lưu công thức\n",
      "Đang chạy sinh công thức, số toán hạng là 5\n",
      "Số phần tử trong 1 cụm 1\n",
      "Số phần tử trong 1 cụm 5\n",
      "Đã lưu lịch sử\n",
      "Đã lưu công thức\n",
      "Đang chạy sinh công thức, số toán hạng là 6\n",
      "Số phần tử trong 1 cụm 1\n",
      "Số phần tử trong 1 cụm 2\n",
      "Đã lưu lịch sử\n",
      "Đã lưu công thức\n",
      "Số phần tử trong 1 cụm 3\n",
      "Số phần tử trong 1 cụm 6\n",
      "Đã lưu lịch sử\n",
      "Đã lưu công thức\n",
      "Đã lưu lịch sử\n",
      "Đang chạy sinh công thức, số toán hạng là 7\n",
      "Số phần tử trong 1 cụm 1\n",
      "Số phần tử trong 1 cụm 7\n",
      "Đã lưu lịch sử\n",
      "Đã lưu công thức\n",
      "Đã lưu lịch sử\n",
      "Đã lưu công thức\n",
      "Đang chạy sinh công thức, số toán hạng là 8\n",
      "Số phần tử trong 1 cụm 1\n",
      "Đã lưu lịch sử\n",
      "Đã lưu công thức\n"
     ]
    },
    {
     "ename": "Exception",
     "evalue": "Đã sinh đủ công thức",
     "output_type": "error",
     "traceback": [
      "\u001b[1;31m---------------------------------------------------------------------------\u001b[0m",
      "\u001b[1;31mException\u001b[0m                                 Traceback (most recent call last)",
      "Cell \u001b[1;32mIn[3], line 1\u001b[0m\n\u001b[1;32m----> 1\u001b[0m vis\u001b[39m.\u001b[39;49mgenerate_formula(\u001b[39m\"\u001b[39;49m\u001b[39mData_CT\u001b[39;49m\u001b[39m\"\u001b[39;49m, \u001b[39m100\u001b[39;49m, \u001b[39m500\u001b[39;49m)\n",
      "File \u001b[1;32mc:\\Users\\AnnNg\\OneDrive\\Desktop\\VIS_SinhCT\\generator.py:101\u001b[0m, in \u001b[0;36mFormula_generator.generate_formula\u001b[1;34m(self, path, num_f_per_file, num_f_target)\u001b[0m\n\u001b[0;32m     99\u001b[0m \u001b[39mself\u001b[39m\u001b[39m.\u001b[39mlist_inv_cyc \u001b[39m=\u001b[39m []\n\u001b[0;32m    100\u001b[0m \u001b[39mself\u001b[39m\u001b[39m.\u001b[39mlist_inv_pro \u001b[39m=\u001b[39m []\n\u001b[1;32m--> 101\u001b[0m \u001b[39mself\u001b[39;49m\u001b[39m.\u001b[39;49mgeneration_method(num_f_per_file, num_f_target)\n",
      "File \u001b[1;32mc:\\Users\\AnnNg\\OneDrive\\Desktop\\VIS_SinhCT\\generator.py:141\u001b[0m, in \u001b[0;36mFormula_generator.__generation_method_1\u001b[1;34m(self, num_f_per_file, num_f_target)\u001b[0m\n\u001b[0;32m    138\u001b[0m         sub_mode \u001b[39m=\u001b[39m \u001b[39mFalse\u001b[39;00m\n\u001b[0;32m    140\u001b[0m     \u001b[39mwhile\u001b[39;00m \u001b[39mself\u001b[39m\u001b[39m.\u001b[39m__fill_1(formula, struct, \u001b[39m0\u001b[39m, np\u001b[39m.\u001b[39mzeros(\u001b[39mself\u001b[39m\u001b[39m.\u001b[39mOPERAND\u001b[39m.\u001b[39mshape[\u001b[39m1\u001b[39m]), \u001b[39m0\u001b[39m, np\u001b[39m.\u001b[39mzeros(\u001b[39mself\u001b[39m\u001b[39m.\u001b[39mOPERAND\u001b[39m.\u001b[39mshape[\u001b[39m1\u001b[39m]), \u001b[39m0\u001b[39m, \u001b[39mFalse\u001b[39;00m, \u001b[39mFalse\u001b[39;00m, sub_mode, \u001b[39mself\u001b[39m\u001b[39m.\u001b[39mrequired_fields):\n\u001b[1;32m--> 141\u001b[0m         \u001b[39mself\u001b[39;49m\u001b[39m.\u001b[39;49msave_history()\n\u001b[0;32m    143\u001b[0m \u001b[39mif\u001b[39;00m \u001b[39mself\u001b[39m\u001b[39m.\u001b[39msave_history():\n\u001b[0;32m    144\u001b[0m     \u001b[39mbreak\u001b[39;00m\n",
      "File \u001b[1;32mc:\\Users\\AnnNg\\OneDrive\\Desktop\\VIS_SinhCT\\generator.py:301\u001b[0m, in \u001b[0;36mFormula_generator.save_history\u001b[1;34m(self)\u001b[0m\n\u001b[0;32m    299\u001b[0m \u001b[39mprint\u001b[39m(\u001b[39m\"\u001b[39m\u001b[39mĐã lưu công thức\u001b[39m\u001b[39m\"\u001b[39m)\n\u001b[0;32m    300\u001b[0m \u001b[39mif\u001b[39;00m \u001b[39mself\u001b[39m\u001b[39m.\u001b[39mcount[\u001b[39m2\u001b[39m] \u001b[39m>\u001b[39m\u001b[39m=\u001b[39m \u001b[39mself\u001b[39m\u001b[39m.\u001b[39mcount[\u001b[39m3\u001b[39m]:\n\u001b[1;32m--> 301\u001b[0m     \u001b[39mraise\u001b[39;00m \u001b[39mException\u001b[39;00m(\u001b[39m\"\u001b[39m\u001b[39mĐã sinh đủ công thức\u001b[39m\u001b[39m\"\u001b[39m)\n\u001b[0;32m    303\u001b[0m \u001b[39mreturn\u001b[39;00m \u001b[39mFalse\u001b[39;00m\n",
      "\u001b[1;31mException\u001b[0m: Đã sinh đủ công thức"
     ]
    }
   ],
   "source": [
    "vis.generate_formula(\"Data_CT\", 100, 500)"
   ]
  },
  {
   "cell_type": "code",
   "execution_count": 4,
   "metadata": {},
   "outputs": [
    {
     "name": "stdout",
     "output_type": "stream",
     "text": [
      "Đã lưu lịch sử\n"
     ]
    },
    {
     "data": {
      "text/plain": [
       "False"
      ]
     },
     "execution_count": 4,
     "metadata": {},
     "output_type": "execute_result"
    }
   ],
   "source": [
    "vis.save_history()"
   ]
  }
 ],
 "metadata": {
  "kernelspec": {
   "display_name": "Python 3",
   "language": "python",
   "name": "python3"
  },
  "language_info": {
   "codemirror_mode": {
    "name": "ipython",
    "version": 3
   },
   "file_extension": ".py",
   "mimetype": "text/x-python",
   "name": "python",
   "nbconvert_exporter": "python",
   "pygments_lexer": "ipython3",
   "version": "3.10.9"
  },
  "orig_nbformat": 4
 },
 "nbformat": 4,
 "nbformat_minor": 2
}
