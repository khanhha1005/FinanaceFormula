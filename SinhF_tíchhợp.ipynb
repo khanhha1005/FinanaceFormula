{
 "cells": [
  {
   "cell_type": "code",
   "execution_count": 12,
   "metadata": {},
   "outputs": [
    {
     "name": "stdout",
     "output_type": "stream",
     "text": [
      "[Errno 2] No such file or directory: 'VIS_SinhCT_Sinh_f'\n",
      "/Users/trancatkhanh/Desktop/FinanaceFormula/VIS_SinhCT_Sinh_f\n"
     ]
    }
   ],
   "source": [
    "%cd VIS_SinhCT_Sinh_f"
   ]
  },
  {
   "cell_type": "code",
   "execution_count": 13,
   "metadata": {},
   "outputs": [],
   "source": [
    "import pandas as pd\n",
    "import numpy as np\n",
    "import os\n",
    "data = pd.read_excel(\"Data_test.xlsx\")\n",
    "data = data[data[\"TIME\"] != 2023]"
   ]
  },
  {
   "cell_type": "code",
   "execution_count": 14,
   "metadata": {},
   "outputs": [
    {
     "data": {
      "text/plain": [
       "Index(['SYMBOL', 'EXCHANGE', 'TIME', 'PROFIT', 'VALUEARG',\n",
       "       'Cash and cash equivalents', 'Total Inventories', 'Fixed assets',\n",
       "       'Current liabilities', 'Sales', 'Gross profit', 'Net operating profit',\n",
       "       'Profit after tax', 'Owner's equity'],\n",
       "      dtype='object')"
      ]
     },
     "execution_count": 14,
     "metadata": {},
     "output_type": "execute_result"
    }
   ],
   "source": [
    "data.columns"
   ]
  },
  {
   "cell_type": "code",
   "execution_count": null,
   "metadata": {},
   "outputs": [],
   "source": []
  },
  {
   "cell_type": "code",
   "execution_count": 15,
   "metadata": {},
   "outputs": [
    {
     "name": "stdout",
     "output_type": "stream",
     "text": [
      "Các cột không được coi là biến: ['TIME', 'PROFIT', 'SYMBOL', 'VALUEARG', 'EXCHANGE']\n"
     ]
    }
   ],
   "source": [
    "from generator import Formula_generator\n",
    "vis = Formula_generator(data,\n",
    "                        generation_method=2,\n",
    "                        required_fields=[],\n",
    "                        multiple_cycles=False,\n",
    "                        investment_method=0,\n",
    "                        interest_rate=1.06,\n",
    "                        measurement_method=2,\n",
    "                        target=0,\n",
    "                        diff_p_p_lim = 0.1)"
   ]
  },
  {
   "cell_type": "code",
   "execution_count": null,
   "metadata": {},
   "outputs": [],
   "source": [
    "vis.generate_formula(\"Data_CT\", 100, 5000000000000)\n"
   ]
  }
 ],
 "metadata": {
  "kernelspec": {
   "display_name": "base",
   "language": "python",
   "name": "python3"
  },
  "language_info": {
   "codemirror_mode": {
    "name": "ipython",
    "version": 3
   },
   "file_extension": ".py",
   "mimetype": "text/x-python",
   "name": "python",
   "nbconvert_exporter": "python",
   "pygments_lexer": "ipython3",
   "version": "3.9.7"
  },
  "orig_nbformat": 4
 },
 "nbformat": 4,
 "nbformat_minor": 2
}
