{
 "cells": [
  {
   "cell_type": "code",
   "execution_count": 1,
   "metadata": {},
   "outputs": [
    {
     "name": "stdout",
     "output_type": "stream",
     "text": [
      "/Users/trancatkhanh/Desktop/FinanaceFormula/VIS_SinhCT_Sinh_f\n"
     ]
    }
   ],
   "source": [
    "%cd VIS_SinhCT_Sinh_f"
   ]
  },
  {
   "cell_type": "code",
   "execution_count": 2,
   "metadata": {},
   "outputs": [],
   "source": [
    "import pandas as pd\n",
    "import numpy as np\n",
    "import os\n",
    "data = pd.read_excel(\"Data_test.xlsx\")\n",
    "data = data[data[\"TIME\"] != 2023]"
   ]
  },
  {
   "cell_type": "code",
   "execution_count": 3,
   "metadata": {},
   "outputs": [],
   "source": [
    "data = data.drop(['Cash and cash equivalents', 'Total Inventories','Fixed assets','Sales','Profit after tax','Gross profit','Current liabilities'], axis=1)\n",
    "# data = data.drop(['Cash and cash equivalents', 'Total Inventories','Fixed assets','Profit after tax','Gross profit','Current liabilities'], axis=1)"
   ]
  },
  {
   "cell_type": "code",
   "execution_count": 4,
   "metadata": {},
   "outputs": [
    {
     "data": {
      "text/html": [
       "<div>\n",
       "<style scoped>\n",
       "    .dataframe tbody tr th:only-of-type {\n",
       "        vertical-align: middle;\n",
       "    }\n",
       "\n",
       "    .dataframe tbody tr th {\n",
       "        vertical-align: top;\n",
       "    }\n",
       "\n",
       "    .dataframe thead th {\n",
       "        text-align: right;\n",
       "    }\n",
       "</style>\n",
       "<table border=\"1\" class=\"dataframe\">\n",
       "  <thead>\n",
       "    <tr style=\"text-align: right;\">\n",
       "      <th></th>\n",
       "      <th>SYMBOL</th>\n",
       "      <th>EXCHANGE</th>\n",
       "      <th>TIME</th>\n",
       "      <th>PROFIT</th>\n",
       "      <th>VALUEARG</th>\n",
       "      <th>Net operating profit</th>\n",
       "      <th>Owner's equity</th>\n",
       "    </tr>\n",
       "  </thead>\n",
       "  <tbody>\n",
       "    <tr>\n",
       "      <th>339</th>\n",
       "      <td>AAA</td>\n",
       "      <td>HOSE</td>\n",
       "      <td>2022</td>\n",
       "      <td>0.476440</td>\n",
       "      <td>155923900000</td>\n",
       "      <td>0.064973</td>\n",
       "      <td>0.874815</td>\n",
       "    </tr>\n",
       "    <tr>\n",
       "      <th>340</th>\n",
       "      <td>AAM</td>\n",
       "      <td>HOSE</td>\n",
       "      <td>2022</td>\n",
       "      <td>0.744966</td>\n",
       "      <td>1660500000</td>\n",
       "      <td>-0.006316</td>\n",
       "      <td>1.247902</td>\n",
       "    </tr>\n",
       "    <tr>\n",
       "      <th>341</th>\n",
       "      <td>AAT</td>\n",
       "      <td>HOSE</td>\n",
       "      <td>2022</td>\n",
       "      <td>0.410448</td>\n",
       "      <td>8211400000</td>\n",
       "      <td>0.038660</td>\n",
       "      <td>0.782203</td>\n",
       "    </tr>\n",
       "    <tr>\n",
       "      <th>342</th>\n",
       "      <td>ABR</td>\n",
       "      <td>HOSE</td>\n",
       "      <td>2022</td>\n",
       "      <td>0.475490</td>\n",
       "      <td>24400000</td>\n",
       "      <td>0.056796</td>\n",
       "      <td>0.626875</td>\n",
       "    </tr>\n",
       "    <tr>\n",
       "      <th>343</th>\n",
       "      <td>ABS</td>\n",
       "      <td>HOSE</td>\n",
       "      <td>2022</td>\n",
       "      <td>0.255578</td>\n",
       "      <td>27833600000</td>\n",
       "      <td>0.041596</td>\n",
       "      <td>0.469779</td>\n",
       "    </tr>\n",
       "    <tr>\n",
       "      <th>...</th>\n",
       "      <td>...</td>\n",
       "      <td>...</td>\n",
       "      <td>...</td>\n",
       "      <td>...</td>\n",
       "      <td>...</td>\n",
       "      <td>...</td>\n",
       "      <td>...</td>\n",
       "    </tr>\n",
       "    <tr>\n",
       "      <th>4721</th>\n",
       "      <td>VPK</td>\n",
       "      <td>HOSE</td>\n",
       "      <td>2007</td>\n",
       "      <td>0.502778</td>\n",
       "      <td>1682800000</td>\n",
       "      <td>0.031980</td>\n",
       "      <td>0.327482</td>\n",
       "    </tr>\n",
       "    <tr>\n",
       "      <th>4722</th>\n",
       "      <td>VSH</td>\n",
       "      <td>HOSE</td>\n",
       "      <td>2007</td>\n",
       "      <td>0.455263</td>\n",
       "      <td>12805300000</td>\n",
       "      <td>0.028461</td>\n",
       "      <td>0.140643</td>\n",
       "    </tr>\n",
       "    <tr>\n",
       "      <th>4723</th>\n",
       "      <td>VTA</td>\n",
       "      <td>HOSE</td>\n",
       "      <td>2007</td>\n",
       "      <td>0.548485</td>\n",
       "      <td>2194500000</td>\n",
       "      <td>0.016901</td>\n",
       "      <td>0.321126</td>\n",
       "    </tr>\n",
       "    <tr>\n",
       "      <th>4724</th>\n",
       "      <td>VTB</td>\n",
       "      <td>HOSE</td>\n",
       "      <td>2007</td>\n",
       "      <td>0.506849</td>\n",
       "      <td>817900000</td>\n",
       "      <td>0.038285</td>\n",
       "      <td>0.178619</td>\n",
       "    </tr>\n",
       "    <tr>\n",
       "      <th>4725</th>\n",
       "      <td>VTC</td>\n",
       "      <td>HOSE</td>\n",
       "      <td>2007</td>\n",
       "      <td>0.531832</td>\n",
       "      <td>577700000</td>\n",
       "      <td>0.038562</td>\n",
       "      <td>0.255649</td>\n",
       "    </tr>\n",
       "  </tbody>\n",
       "</table>\n",
       "<p>4387 rows × 7 columns</p>\n",
       "</div>"
      ],
      "text/plain": [
       "     SYMBOL EXCHANGE  TIME    PROFIT      VALUEARG  Net operating profit  \\\n",
       "339     AAA     HOSE  2022  0.476440  155923900000              0.064973   \n",
       "340     AAM     HOSE  2022  0.744966    1660500000             -0.006316   \n",
       "341     AAT     HOSE  2022  0.410448    8211400000              0.038660   \n",
       "342     ABR     HOSE  2022  0.475490      24400000              0.056796   \n",
       "343     ABS     HOSE  2022  0.255578   27833600000              0.041596   \n",
       "...     ...      ...   ...       ...           ...                   ...   \n",
       "4721    VPK     HOSE  2007  0.502778    1682800000              0.031980   \n",
       "4722    VSH     HOSE  2007  0.455263   12805300000              0.028461   \n",
       "4723    VTA     HOSE  2007  0.548485    2194500000              0.016901   \n",
       "4724    VTB     HOSE  2007  0.506849     817900000              0.038285   \n",
       "4725    VTC     HOSE  2007  0.531832     577700000              0.038562   \n",
       "\n",
       "      Owner's equity  \n",
       "339         0.874815  \n",
       "340         1.247902  \n",
       "341         0.782203  \n",
       "342         0.626875  \n",
       "343         0.469779  \n",
       "...              ...  \n",
       "4721        0.327482  \n",
       "4722        0.140643  \n",
       "4723        0.321126  \n",
       "4724        0.178619  \n",
       "4725        0.255649  \n",
       "\n",
       "[4387 rows x 7 columns]"
      ]
     },
     "execution_count": 4,
     "metadata": {},
     "output_type": "execute_result"
    }
   ],
   "source": [
    "data"
   ]
  },
  {
   "cell_type": "code",
   "execution_count": 5,
   "metadata": {},
   "outputs": [
    {
     "name": "stdout",
     "output_type": "stream",
     "text": [
      "Các cột không được coi là biến: ['TIME', 'PROFIT', 'SYMBOL', 'VALUEARG', 'EXCHANGE']\n"
     ]
    }
   ],
   "source": [
    "from generator import Formula_generator\n",
    "vis = Formula_generator(data,\n",
    "                        generation_method=2,\n",
    "                        required_fields=[],\n",
    "                        multiple_cycles=False,\n",
    "                        investment_method=0,\n",
    "                        interest_rate=1.06,\n",
    "                        measurement_method=2,\n",
    "                        target=0,\n",
    "                        diff_p_p_lim = 0.1)"
   ]
  },
  {
   "cell_type": "code",
   "execution_count": 6,
   "metadata": {},
   "outputs": [
    {
     "name": "stdout",
     "output_type": "stream",
     "text": [
      "Đã tạo thư mục lưu công thức\n",
      "Data_CT/\n",
      "Chạy lần đầu . Tiến hành lưu file\n",
      "Đang chạy sinh công thức, số toán hạng là 2\n",
      "Đang chạy sinh công thức, số toán hạng là 4\n",
      "Đã lưu lịch sử\n",
      "đã lưu công thức\n",
      "Đang chạy sinh công thức, số toán hạng là 6\n",
      "Đã lưu lịch sử\n",
      "đã lưu công thức\n",
      "Đang chạy sinh công thức, số toán hạng là 8\n",
      "Đã lưu lịch sử\n",
      "Đã sinh xong đến F cuối cùng (8) . Bắt đầu test lại xem  F 10có công thức nào tốt hơn không\n",
      "['(-0/1) - ((-1/0) * ((-1/0) / (-0/1)))', '(-0/1) - ((-1/0) * ((+1/0) / (+0/1)))', '(-0/1) - ((+1/0) / ((-0/1) * (+0/1)))', '(-0/1) - ((+1/0) / ((+0/1) * (-0/1)))', '(+0/1) - ((-0/1) * ((-1/0) / (-0/1)))', '(+0/1) - ((-0/1) * ((+1/0) / (+0/1)))', '(+0/1) - ((+0/1) / ((-0/1) * (+0/1)))', '(+0/1) - ((+0/1) / ((+0/1) * (-0/1)))', '(+0/1) - ((-1/0) * ((-1/0) / (-0/1)))', '(+0/1) - ((-1/0) * ((+1/0) / (+0/1)))', '(+0/1) - ((+1/0) / ((-0/1) * (+0/1)))', '(+0/1) - ((+1/0) / ((+0/1) * (-0/1)))', '(-1/0) - ((-1/0) * ((-1/0) / (-0/1)))', '(-1/0) - ((-1/0) * ((+1/0) / (+0/1)))', '(-1/0) - ((+1/0) / ((-0/1) * (+0/1)))', '(-1/0) - ((+1/0) / ((+0/1) * (-0/1)))', '(+1/0) - ((-0/1) * ((-1/0) / (-0/1)))', '(+1/0) - ((-0/1) * ((+1/0) / (+0/1)))', '(+1/0) - ((+0/1) / ((-0/1) * (+0/1)))', '(+1/0) - ((+0/1) / ((+0/1) * (-0/1)))', '(+1/0) - ((-1/0) * ((-1/0) / (-0/1)))', '(+1/0) - ((-1/0) * ((+1/0) / (+0/1)))', '(+1/0) - ((+1/0) / ((-0/1) * (+0/1)))', '(+1/0) - ((+1/0) / ((+0/1) * (-0/1)))']\n",
      "Đang chạy sinh công thức, số toán hạng là 10\n",
      "Đã lưu lịch sử\n",
      "đã lưu công thức\n"
     ]
    }
   ],
   "source": [
    "vis.generate_formula(\"Data_CT\", 100, 5000000000)\n"
   ]
  },
  {
   "cell_type": "code",
   "execution_count": 7,
   "metadata": {},
   "outputs": [
    {
     "data": {
      "text/plain": [
       "array([       135,        100,        135, 5000000000])"
      ]
     },
     "execution_count": 7,
     "metadata": {},
     "output_type": "execute_result"
    }
   ],
   "source": [
    "vis.count"
   ]
  },
  {
   "cell_type": "code",
   "execution_count": 8,
   "metadata": {},
   "outputs": [],
   "source": [
    "l = ['(-0/1) - ((-1/0) * ((-1/0) / (-0/1)))', '(-0/1) - ((-1/0) * ((+1/0) / (+0/1)))', '(-0/1) - ((+1/0) / ((-0/1) * (+0/1)))', '(-0/1) - ((+1/0) / ((+0/1) * (-0/1)))', '(+0/1) - ((-0/1) * ((-1/0) / (-0/1)))', '(+0/1) - ((-0/1) * ((+1/0) / (+0/1)))', '(+0/1) - ((+0/1) / ((-0/1) * (+0/1)))', '(+0/1) - ((+0/1) / ((+0/1) * (-0/1)))', '(+0/1) - ((-1/0) * ((-1/0) / (-0/1)))', '(+0/1) - ((-1/0) * ((+1/0) / (+0/1)))', '(+0/1) - ((+1/0) / ((-0/1) * (+0/1)))', '(+0/1) - ((+1/0) / ((+0/1) * (-0/1)))', '(-1/0) - ((-1/0) * ((-1/0) / (-0/1)))', '(-1/0) - ((-1/0) * ((+1/0) / (+0/1)))', '(-1/0) - ((+1/0) / ((-0/1) * (+0/1)))', '(-1/0) - ((+1/0) / ((+0/1) * (-0/1)))', '(+1/0) - ((-0/1) * ((-1/0) / (-0/1)))', '(+1/0) - ((-0/1) * ((+1/0) / (+0/1)))', '(+1/0) - ((+0/1) / ((-0/1) * (+0/1)))', '(+1/0) - ((+0/1) / ((+0/1) * (-0/1)))', '(+1/0) - ((-1/0) * ((-1/0) / (-0/1)))', '(+1/0) - ((-1/0) * ((+1/0) / (+0/1)))', '(+1/0) - ((+1/0) / ((-0/1) * (+0/1)))', '(+1/0) - ((+1/0) / ((+0/1) * (-0/1)))']\n",
    "\n"
   ]
  },
  {
   "cell_type": "code",
   "execution_count": 9,
   "metadata": {},
   "outputs": [
    {
     "data": {
      "text/plain": [
       "24"
      ]
     },
     "execution_count": 9,
     "metadata": {},
     "output_type": "execute_result"
    }
   ],
   "source": [
    "len(l)"
   ]
  },
  {
   "cell_type": "code",
   "execution_count": 10,
   "metadata": {},
   "outputs": [],
   "source": [
    "k = (set(['(-0/1) - ((-1/0) * ((-1/0) / (-0/1)))', '(-0/1) - ((-1/0) * ((+1/0) / (+0/1)))', '(-0/1) - ((+1/0) / ((-0/1) * (+0/1)))', '(-0/1) - ((+1/0) / ((+0/1) * (-0/1)))', '(+0/1) - ((-0/1) * ((-1/0) / (-0/1)))', '(+0/1) - ((-0/1) * ((+1/0) / (+0/1)))', '(+0/1) - ((+0/1) / ((-0/1) * (+0/1)))', '(+0/1) - ((+0/1) / ((+0/1) * (-0/1)))', '(+0/1) - ((-1/0) * ((-1/0) / (-0/1)))', '(+0/1) - ((-1/0) * ((+1/0) / (+0/1)))', '(+0/1) - ((+1/0) / ((-0/1) * (+0/1)))', '(+0/1) - ((+1/0) / ((+0/1) * (-0/1)))', '(-1/0) - ((-1/0) * ((-1/0) / (-0/1)))', '(-1/0) - ((-1/0) * ((+1/0) / (+0/1)))', '(-1/0) - ((+1/0) / ((-0/1) * (+0/1)))', '(-1/0) - ((+1/0) / ((+0/1) * (-0/1)))', '(+1/0) - ((-0/1) * ((-1/0) / (-0/1)))', '(+1/0) - ((-0/1) * ((+1/0) / (+0/1)))', '(+1/0) - ((+0/1) / ((-0/1) * (+0/1)))', '(+1/0) - ((+0/1) / ((+0/1) * (-0/1)))', '(+1/0) - ((-1/0) * ((-1/0) / (-0/1)))', '(+1/0) - ((-1/0) * ((+1/0) / (+0/1)))', '(+1/0) - ((+1/0) / ((-0/1) * (+0/1)))', '(+1/0) - ((+1/0) / ((+0/1) * (-0/1)))']))\n"
   ]
  },
  {
   "cell_type": "code",
   "execution_count": 11,
   "metadata": {},
   "outputs": [
    {
     "name": "stdout",
     "output_type": "stream",
     "text": [
      "24\n"
     ]
    }
   ],
   "source": [
    "kl = 0 \n",
    "for i in k:\n",
    "    if i in l:\n",
    "        kl +=1 \n",
    "    if i not in l:\n",
    "        print(i)\n",
    "print(kl)"
   ]
  },
  {
   "cell_type": "code",
   "execution_count": 12,
   "metadata": {},
   "outputs": [
    {
     "data": {
      "text/plain": [
       "array([[ 0.06497323, -0.00631566,  0.03865988, ...,  0.01690101,\n",
       "         0.03828519,  0.03856156],\n",
       "       [ 0.87481479,  1.24790156,  0.78220326, ...,  0.32112646,\n",
       "         0.17861851,  0.25564865]])"
      ]
     },
     "execution_count": 12,
     "metadata": {},
     "output_type": "execute_result"
    }
   ],
   "source": [
    "vis.OPERAND"
   ]
  },
  {
   "cell_type": "code",
   "execution_count": 13,
   "metadata": {},
   "outputs": [
    {
     "data": {
      "text/plain": [
       "array([-0.87481479, -1.24790156, -0.78220326, ..., -0.32112646,\n",
       "       -0.17861851, -0.25564865])"
      ]
     },
     "execution_count": 13,
     "metadata": {},
     "output_type": "execute_result"
    }
   ],
   "source": [
    "-vis.OPERAND[1]"
   ]
  },
  {
   "cell_type": "code",
   "execution_count": 14,
   "metadata": {},
   "outputs": [
    {
     "name": "stdout",
     "output_type": "stream",
     "text": [
      "[-0.43740739 -0.62395078 -0.39110163 ... -0.16056323 -0.08930926\n",
      " -0.12782433]\n"
     ]
    }
   ],
   "source": [
    "expression = '-1/2'\n",
    "\n",
    "weight = np.zeros(vis.OPERAND.shape[1])\n",
    "operands = {}\n",
    "for i, operand in enumerate(vis.OPERAND):\n",
    "    operands[f'A{i}'] = operand\n",
    "\n",
    "# Replace numbers with corresponding variable names\n",
    "for i, operand in enumerate(operands):\n",
    "    \n",
    "    expression = expression.replace(str(i), operand)\n",
    "\n",
    "# Evaluate the expression\n",
    "result = eval(expression, {}, operands)\n",
    "weight+=result\n",
    "print(weight)"
   ]
  },
  {
   "cell_type": "code",
   "execution_count": 15,
   "metadata": {},
   "outputs": [
    {
     "ename": "IndexError",
     "evalue": "index 2 is out of bounds for axis 0 with size 2",
     "output_type": "error",
     "traceback": [
      "\u001b[0;31m---------------------------------------------------------------------------\u001b[0m",
      "\u001b[0;31mIndexError\u001b[0m                                Traceback (most recent call last)",
      "\u001b[0;32m/var/folders/ds/4lcv95w11y7brm6dqhc04s240000gn/T/ipykernel_22710/940118987.py\u001b[0m in \u001b[0;36m<module>\u001b[0;34m\u001b[0m\n\u001b[0;32m----> 1\u001b[0;31m \u001b[0;34m-\u001b[0m\u001b[0mvis\u001b[0m\u001b[0;34m.\u001b[0m\u001b[0mOPERAND\u001b[0m\u001b[0;34m[\u001b[0m\u001b[0;36m1\u001b[0m\u001b[0;34m]\u001b[0m\u001b[0;34m/\u001b[0m\u001b[0mvis\u001b[0m\u001b[0;34m.\u001b[0m\u001b[0mOPERAND\u001b[0m\u001b[0;34m[\u001b[0m\u001b[0;36m2\u001b[0m\u001b[0;34m]\u001b[0m\u001b[0;34m\u001b[0m\u001b[0;34m\u001b[0m\u001b[0m\n\u001b[0m",
      "\u001b[0;31mIndexError\u001b[0m: index 2 is out of bounds for axis 0 with size 2"
     ]
    }
   ],
   "source": [
    "-vis.OPERAND[1]/vis.OPERAND[2]"
   ]
  },
  {
   "cell_type": "code",
   "execution_count": null,
   "metadata": {},
   "outputs": [
    {
     "name": "stdout",
     "output_type": "stream",
     "text": [
      "-1/2\n",
      "[0.31887778 0.39693847 0.1091497  ... 0.06552784 0.03293761 0.07028022]\n",
      "[0.15996809 0.54479089 0.02084284 ... 0.48107391 0.05940226 0.11634382]\n",
      "[0.33694847 0.16848317 0.50872368 ... 1.3094114  0.01012113 0.07169651]\n",
      "[0.5264463  0.03560391 0.13533317 ... 1.61369785 0.19976527 0.24447098]\n",
      "[2.1097391  0.86121279 0.55345992 ... 2.40196141 0.77384235 0.74539669]\n",
      "[0.20872438 0.04798185 0.06777231 ... 0.3055042  0.10107666 0.13963524]\n",
      "[ 0.06497323 -0.00631566  0.03865988 ...  0.01690101  0.03828519\n",
      "  0.03856156]\n",
      "[0.0519885  0.00144815 0.03370255 ... 0.0179507  0.04272564 0.03440913]\n",
      "[0.87481479 1.24790156 0.78220326 ... 0.32112646 0.17861851 0.25564865]\n",
      "-1/2\n",
      "-0.5\n"
     ]
    }
   ],
   "source": [
    "expression = '-1/2'\n",
    "\n",
    "columns = len(vis.OPERAND)\n",
    "for i in range(columns):\n",
    "    column_variable = \"{}\".format(i)\n",
    "    expression = expression.replace(str(i), column_variable)\n",
    "print(expression)\n",
    "for i, column_value in enumerate(vis.OPERAND):\n",
    "    column_variable = \"A{}\".format(i)\n",
    "    expression = expression.replace(column_variable, str(column_value))\n",
    "    print(column_value)\n",
    "print(expression)\n",
    "result = eval(expression)\n",
    "print(result)"
   ]
  },
  {
   "cell_type": "code",
   "execution_count": null,
   "metadata": {},
   "outputs": [
    {
     "data": {
      "text/plain": [
       "array([  0, 100, 201, 500])"
      ]
     },
     "execution_count": 10,
     "metadata": {},
     "output_type": "execute_result"
    }
   ],
   "source": [
    "vis.count"
   ]
  },
  {
   "cell_type": "code",
   "execution_count": null,
   "metadata": {},
   "outputs": [],
   "source": [
    "import pickle\n",
    "with open('state.pkl', 'rb') as file:\n",
    "    state = pickle.load(file)\n",
    "F_new_formula = state['F_new_formula']\n",
    "current_formula1 = state['current_formula1']\n",
    "current_formula2 = state['current_formula2']\n",
    "current_operator = state['current_operator']\n",
    "F_thu = state['operand']\n",
    "F2 = state['F_current']"
   ]
  },
  {
   "cell_type": "code",
   "execution_count": null,
   "metadata": {},
   "outputs": [
    {
     "data": {
      "text/plain": [
       "['(0/1) + ((0/1) / (3/4))']"
      ]
     },
     "execution_count": 9,
     "metadata": {},
     "output_type": "execute_result"
    }
   ],
   "source": [
    "F2"
   ]
  },
  {
   "cell_type": "code",
   "execution_count": null,
   "metadata": {},
   "outputs": [
    {
     "data": {
      "text/plain": [
       "54"
      ]
     },
     "execution_count": 7,
     "metadata": {},
     "output_type": "execute_result"
    }
   ],
   "source": [
    "current_formula2"
   ]
  },
  {
   "cell_type": "code",
   "execution_count": null,
   "metadata": {},
   "outputs": [
    {
     "data": {
      "text/plain": [
       "0"
      ]
     },
     "execution_count": 12,
     "metadata": {},
     "output_type": "execute_result"
    }
   ],
   "source": [
    "current_operator"
   ]
  },
  {
   "cell_type": "code",
   "execution_count": null,
   "metadata": {},
   "outputs": [
    {
     "data": {
      "text/plain": [
       "0"
      ]
     },
     "execution_count": 10,
     "metadata": {},
     "output_type": "execute_result"
    }
   ],
   "source": [
    "current_formula1"
   ]
  },
  {
   "cell_type": "code",
   "execution_count": 16,
   "metadata": {},
   "outputs": [
    {
     "name": "stdout",
     "output_type": "stream",
     "text": [
      "/Users/trancatkhanh/Desktop/Data_CT\n"
     ]
    }
   ],
   "source": [
    "%cd /Users/trancatkhanh/Desktop/Data_CT"
   ]
  },
  {
   "cell_type": "code",
   "execution_count": 17,
   "metadata": {},
   "outputs": [],
   "source": [
    "import pandas as pd\n",
    "import os\n",
    "directory = '/Users/trancatkhanh/Desktop/Data_CT/'\n",
    "merged_data = pd.DataFrame()\n",
    "for filename in os.listdir(directory):\n",
    "    if filename.endswith(\".csv\"):\n",
    "        file_path = os.path.join(directory, filename)\n",
    "        df = pd.read_csv(file_path)\n",
    "        merged_data = pd.concat([merged_data, df])\n",
    "merged_data = merged_data.drop_duplicates()\n",
    "merged_data = merged_data.reset_index(drop=True)\n",
    "merged_data.to_csv('F10.csv', index=False)\n"
   ]
  },
  {
   "cell_type": "code",
   "execution_count": null,
   "metadata": {},
   "outputs": [
    {
     "data": {
      "text/plain": [
       "37"
      ]
     },
     "execution_count": 24,
     "metadata": {},
     "output_type": "execute_result"
    }
   ],
   "source": [
    "len('(+1/0) - ((-0/1) * ((-1/0) / (-0/1)))')"
   ]
  },
  {
   "cell_type": "code",
   "execution_count": null,
   "metadata": {},
   "outputs": [
    {
     "data": {
      "text/plain": [
       "48"
      ]
     },
     "execution_count": 31,
     "metadata": {},
     "output_type": "execute_result"
    }
   ],
   "source": [
    "len(unique_values[1])"
   ]
  },
  {
   "cell_type": "code",
   "execution_count": null,
   "metadata": {},
   "outputs": [
    {
     "name": "stdout",
     "output_type": "stream",
     "text": [
      "(+1/0) - ((-0/1) * ((-1/0) / (-0/1)))\n",
      "(+1/0) - ((-0/1) * ((+1/0) / (+0/1)))\n",
      "(+1/0) - ((+0/1) / ((-0/1) * (+0/1)))\n",
      "(+1/0) - ((+0/1) / ((+0/1) * (-0/1)))\n",
      "(+1/0) - ((-1/0) * ((-1/0) / (-0/1)))\n",
      "(+1/0) - ((-1/0) * ((+1/0) / (+0/1)))\n",
      "(+1/0) - ((+1/0) / ((-0/1) * (+0/1)))\n",
      "(+1/0) - ((+1/0) / ((+0/1) * (-0/1)))\n",
      "(-0/1) - ((-1/0) * ((-1/0) / (-0/1)))\n",
      "(-0/1) - ((-1/0) * ((+1/0) / (+0/1)))\n",
      "(-0/1) - ((+1/0) / ((-0/1) * (+0/1)))\n",
      "(-0/1) - ((+1/0) / ((+0/1) * (-0/1)))\n",
      "(+0/1) - ((-0/1) * ((-1/0) / (-0/1)))\n",
      "(+0/1) - ((-0/1) * ((+1/0) / (+0/1)))\n",
      "(+0/1) - ((+0/1) / ((-0/1) * (+0/1)))\n",
      "(+0/1) - ((+0/1) / ((+0/1) * (-0/1)))\n",
      "(+0/1) - ((-1/0) * ((-1/0) / (-0/1)))\n",
      "(+0/1) - ((-1/0) * ((+1/0) / (+0/1)))\n",
      "(+0/1) - ((+1/0) / ((-0/1) * (+0/1)))\n",
      "(+0/1) - ((+1/0) / ((+0/1) * (-0/1)))\n",
      "(-1/0) - ((-1/0) * ((-1/0) / (-0/1)))\n",
      "(-1/0) - ((-1/0) * ((+1/0) / (+0/1)))\n",
      "(-1/0) - ((+1/0) / ((-0/1) * (+0/1)))\n",
      "(-1/0) - ((+1/0) / ((+0/1) * (-0/1)))\n",
      "24\n"
     ]
    }
   ],
   "source": [
    "df1 = pd.read_csv('/Users/trancatkhanh/Desktop/Data_CT/merged_data.csv')\n",
    "unique_values = df1['formula'].unique()\n",
    "l = 0\n",
    "for i in (unique_values):\n",
    "    if len(i)==37:\n",
    "        l +=1\n",
    "        print(i)\n",
    "print\n"
   ]
  },
  {
   "cell_type": "code",
   "execution_count": null,
   "metadata": {},
   "outputs": [],
   "source": []
  }
 ],
 "metadata": {
  "kernelspec": {
   "display_name": "base",
   "language": "python",
   "name": "python3"
  },
  "language_info": {
   "codemirror_mode": {
    "name": "ipython",
    "version": 3
   },
   "file_extension": ".py",
   "mimetype": "text/x-python",
   "name": "python",
   "nbconvert_exporter": "python",
   "pygments_lexer": "ipython3",
   "version": "3.9.7"
  },
  "orig_nbformat": 4
 },
 "nbformat": 4,
 "nbformat_minor": 2
}
