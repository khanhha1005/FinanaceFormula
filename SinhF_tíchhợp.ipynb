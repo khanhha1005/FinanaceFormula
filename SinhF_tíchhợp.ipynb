{
 "cells": [
  {
   "cell_type": "code",
   "execution_count": 1,
   "metadata": {},
   "outputs": [
    {
     "name": "stdout",
     "output_type": "stream",
     "text": [
      "/Users/trancatkhanh/Desktop/FinanaceFormula/VIS_SinhCT_Sinh_f\n"
     ]
    }
   ],
   "source": [
    "%cd VIS_SinhCT_Sinh_f"
   ]
  },
  {
   "cell_type": "code",
   "execution_count": 2,
   "metadata": {},
   "outputs": [],
   "source": [
    "import pandas as pd\n",
    "import numpy as np\n",
    "import os\n",
    "data = pd.read_excel(\"Data_test.xlsx\")\n",
    "data = data[data[\"TIME\"] != 2023]"
   ]
  },
  {
   "cell_type": "code",
   "execution_count": 18,
   "metadata": {},
   "outputs": [
    {
     "name": "stdout",
     "output_type": "stream",
     "text": [
      "Các cột không được coi là biến: ['TIME', 'PROFIT', 'SYMBOL', 'VALUEARG', 'EXCHANGE']\n"
     ]
    }
   ],
   "source": [
    "from generator import Formula_generator\n",
    "vis = Formula_generator(data,\n",
    "                        generation_method=1,\n",
    "                        required_fields=[],\n",
    "                        multiple_cycles=False,\n",
    "                        investment_method=0,\n",
    "                        interest_rate=1.06,\n",
    "                        measurement_method=2,\n",
    "                        target=0,\n",
    "                        diff_p_p_lim = 0.1)"
   ]
  },
  {
   "cell_type": "code",
   "execution_count": 19,
   "metadata": {},
   "outputs": [
    {
     "name": "stdout",
     "output_type": "stream",
     "text": [
      "Data_CT/\n",
      "Đang chạy sinh công thức, số toán hạng là 1\n",
      "Số phần tử trong 1 cụm 1\n",
      "Đã lưu lịch sử\n",
      "Đã lưu công thức\n",
      "Đang chạy sinh công thức, số toán hạng là 2\n",
      "Số phần tử trong 1 cụm 1\n",
      "Số phần tử trong 1 cụm 2\n",
      "Đã lưu lịch sử\n",
      "Đã lưu công thức\n",
      "Đang chạy sinh công thức, số toán hạng là 3\n",
      "Số phần tử trong 1 cụm 1\n",
      "Số phần tử trong 1 cụm 3\n",
      "Đã lưu lịch sử\n",
      "Đã lưu công thức\n",
      "Đang chạy sinh công thức, số toán hạng là 4\n",
      "Số phần tử trong 1 cụm 1\n",
      "Số phần tử trong 1 cụm 2\n",
      "Số phần tử trong 1 cụm 4\n",
      "Đã lưu lịch sử\n",
      "Đã lưu công thức\n",
      "Đang chạy sinh công thức, số toán hạng là 5\n",
      "Số phần tử trong 1 cụm 1\n",
      "Số phần tử trong 1 cụm 5\n",
      "Đã lưu lịch sử\n",
      "Đã lưu công thức\n",
      "Đang chạy sinh công thức, số toán hạng là 6\n",
      "Số phần tử trong 1 cụm 1\n",
      "Số phần tử trong 1 cụm 2\n",
      "Số phần tử trong 1 cụm 3\n",
      "Số phần tử trong 1 cụm 6\n",
      "Đã lưu lịch sử\n",
      "Đã lưu công thức\n",
      "Đã lưu lịch sử\n",
      "Đã lưu công thức\n",
      "Đang chạy sinh công thức, số toán hạng là 7\n",
      "Số phần tử trong 1 cụm 1\n",
      "Số phần tử trong 1 cụm 7\n",
      "Đã lưu lịch sử\n",
      "Đã lưu công thức\n",
      "Đang chạy sinh công thức, số toán hạng là 8\n",
      "Số phần tử trong 1 cụm 1\n",
      "Số phần tử trong 1 cụm 2\n",
      "Số phần tử trong 1 cụm 4\n",
      "Đã lưu lịch sử\n",
      "Đã lưu công thức\n",
      "Số phần tử trong 1 cụm 8\n",
      "Đã lưu lịch sử\n",
      "Đã lưu công thức\n",
      "Đang chạy sinh công thức, số toán hạng là 9\n",
      "Số phần tử trong 1 cụm 1\n",
      "Số phần tử trong 1 cụm 3\n",
      "Đã lưu lịch sử\n",
      "Đã lưu công thức\n",
      "Số phần tử trong 1 cụm 9\n",
      "Đã lưu lịch sử\n",
      "Đã lưu công thức\n",
      "Đang chạy sinh công thức, số toán hạng là 10\n",
      "Số phần tử trong 1 cụm 1\n",
      "Số phần tử trong 1 cụm 2\n",
      "Đã lưu lịch sử\n",
      "Đã lưu công thức\n",
      "Số phần tử trong 1 cụm 5\n",
      "Đã lưu lịch sử\n",
      "Đã lưu công thức\n",
      "Số phần tử trong 1 cụm 10\n",
      "Đã lưu lịch sử\n",
      "Đã lưu công thức\n",
      "Đang chạy sinh công thức, số toán hạng là 11\n",
      "Số phần tử trong 1 cụm 1\n",
      "Số phần tử trong 1 cụm 11\n",
      "Đã lưu lịch sử\n"
     ]
    },
    {
     "ename": "KeyboardInterrupt",
     "evalue": "",
     "output_type": "error",
     "traceback": [
      "\u001b[0;31m---------------------------------------------------------------------------\u001b[0m",
      "\u001b[0;31mKeyboardInterrupt\u001b[0m                         Traceback (most recent call last)",
      "\u001b[0;32m/var/folders/ds/4lcv95w11y7brm6dqhc04s240000gn/T/ipykernel_24167/4101580817.py\u001b[0m in \u001b[0;36m<module>\u001b[0;34m\u001b[0m\n\u001b[0;32m----> 1\u001b[0;31m \u001b[0mvis\u001b[0m\u001b[0;34m.\u001b[0m\u001b[0mgenerate_formula\u001b[0m\u001b[0;34m(\u001b[0m\u001b[0;34m\"Data_CT\"\u001b[0m\u001b[0;34m,\u001b[0m \u001b[0;36m100\u001b[0m\u001b[0;34m,\u001b[0m \u001b[0;36m5000000000\u001b[0m\u001b[0;34m)\u001b[0m\u001b[0;34m\u001b[0m\u001b[0;34m\u001b[0m\u001b[0m\n\u001b[0m",
      "\u001b[0;32m~/Desktop/FinanaceFormula/VIS_SinhCT_Sinh_f/generator.py\u001b[0m in \u001b[0;36mgenerate_formula\u001b[0;34m(self, path, num_f_per_file, num_f_target)\u001b[0m\n\u001b[1;32m    116\u001b[0m         \u001b[0mself\u001b[0m\u001b[0;34m.\u001b[0m\u001b[0mlist_inv_cyc\u001b[0m \u001b[0;34m=\u001b[0m \u001b[0;34m[\u001b[0m\u001b[0;34m]\u001b[0m\u001b[0;34m\u001b[0m\u001b[0;34m\u001b[0m\u001b[0m\n\u001b[1;32m    117\u001b[0m         \u001b[0mself\u001b[0m\u001b[0;34m.\u001b[0m\u001b[0mlist_inv_pro\u001b[0m \u001b[0;34m=\u001b[0m \u001b[0;34m[\u001b[0m\u001b[0;34m]\u001b[0m\u001b[0;34m\u001b[0m\u001b[0;34m\u001b[0m\u001b[0m\n\u001b[0;32m--> 118\u001b[0;31m         \u001b[0mself\u001b[0m\u001b[0;34m.\u001b[0m\u001b[0mgeneration_method\u001b[0m\u001b[0;34m(\u001b[0m\u001b[0mnum_f_per_file\u001b[0m\u001b[0;34m,\u001b[0m \u001b[0mnum_f_target\u001b[0m\u001b[0;34m)\u001b[0m\u001b[0;34m\u001b[0m\u001b[0;34m\u001b[0m\u001b[0m\n\u001b[0m\u001b[1;32m    119\u001b[0m \u001b[0;34m\u001b[0m\u001b[0m\n\u001b[1;32m    120\u001b[0m     \u001b[0;32mdef\u001b[0m \u001b[0m__generation_method_2\u001b[0m\u001b[0;34m(\u001b[0m\u001b[0mself\u001b[0m\u001b[0;34m,\u001b[0m \u001b[0mnum_f_per_file\u001b[0m\u001b[0;34m:\u001b[0m \u001b[0mint\u001b[0m\u001b[0;34m,\u001b[0m \u001b[0mnum_f_target\u001b[0m\u001b[0;34m:\u001b[0m \u001b[0mint\u001b[0m\u001b[0;34m)\u001b[0m\u001b[0;34m:\u001b[0m\u001b[0;34m\u001b[0m\u001b[0;34m\u001b[0m\u001b[0m\n",
      "\u001b[0;32m~/Desktop/FinanaceFormula/VIS_SinhCT_Sinh_f/generator.py\u001b[0m in \u001b[0;36m__generation_method_1\u001b[0;34m(self, num_f_per_file, num_f_target)\u001b[0m\n\u001b[1;32m    268\u001b[0m                     \u001b[0mself\u001b[0m\u001b[0;34m.\u001b[0m\u001b[0msave_history\u001b[0m\u001b[0;34m(\u001b[0m\u001b[0;34m)\u001b[0m\u001b[0;34m\u001b[0m\u001b[0;34m\u001b[0m\u001b[0m\n\u001b[1;32m    269\u001b[0m \u001b[0;34m\u001b[0m\u001b[0m\n\u001b[0;32m--> 270\u001b[0;31m             \u001b[0;32mif\u001b[0m \u001b[0mself\u001b[0m\u001b[0;34m.\u001b[0m\u001b[0msave_history\u001b[0m\u001b[0;34m(\u001b[0m\u001b[0;34m)\u001b[0m\u001b[0;34m:\u001b[0m\u001b[0;34m\u001b[0m\u001b[0;34m\u001b[0m\u001b[0m\n\u001b[0m\u001b[1;32m    271\u001b[0m                 \u001b[0;32mbreak\u001b[0m\u001b[0;34m\u001b[0m\u001b[0;34m\u001b[0m\u001b[0m\n\u001b[1;32m    272\u001b[0m \u001b[0;34m\u001b[0m\u001b[0m\n",
      "\u001b[0;32m~/Desktop/FinanaceFormula/VIS_SinhCT_Sinh_f/generator.py\u001b[0m in \u001b[0;36msave_history\u001b[0;34m(self)\u001b[0m\n\u001b[1;32m    461\u001b[0m         \u001b[0;32mwhile\u001b[0m \u001b[0;32mTrue\u001b[0m\u001b[0;34m:\u001b[0m\u001b[0;34m\u001b[0m\u001b[0;34m\u001b[0m\u001b[0m\n\u001b[1;32m    462\u001b[0m             \u001b[0mpath\u001b[0m \u001b[0;34m=\u001b[0m \u001b[0mself\u001b[0m\u001b[0;34m.\u001b[0m\u001b[0mpath\u001b[0m \u001b[0;34m+\u001b[0m \u001b[0;34mf\"formula_\"\u001b[0m \u001b[0;34m+\u001b[0m \u001b[0mdatetime\u001b[0m\u001b[0;34m.\u001b[0m\u001b[0mnow\u001b[0m\u001b[0;34m(\u001b[0m\u001b[0;34m)\u001b[0m\u001b[0;34m.\u001b[0m\u001b[0mstrftime\u001b[0m\u001b[0;34m(\u001b[0m\u001b[0;34m\"%d_%m_%Y_%H_%M_%S\"\u001b[0m\u001b[0;34m)\u001b[0m \u001b[0;34m+\u001b[0m \u001b[0;34m\".csv\"\u001b[0m\u001b[0;34m\u001b[0m\u001b[0;34m\u001b[0m\u001b[0m\n\u001b[0;32m--> 463\u001b[0;31m             \u001b[0;32mif\u001b[0m \u001b[0;32mnot\u001b[0m \u001b[0mos\u001b[0m\u001b[0;34m.\u001b[0m\u001b[0mpath\u001b[0m\u001b[0;34m.\u001b[0m\u001b[0mexists\u001b[0m\u001b[0;34m(\u001b[0m\u001b[0mpath\u001b[0m\u001b[0;34m)\u001b[0m\u001b[0;34m:\u001b[0m\u001b[0;34m\u001b[0m\u001b[0;34m\u001b[0m\u001b[0m\n\u001b[0m\u001b[1;32m    464\u001b[0m                 \u001b[0mdf\u001b[0m\u001b[0;34m.\u001b[0m\u001b[0mto_csv\u001b[0m\u001b[0;34m(\u001b[0m\u001b[0mpath\u001b[0m\u001b[0;34m,\u001b[0m \u001b[0mindex\u001b[0m\u001b[0;34m=\u001b[0m\u001b[0;32mFalse\u001b[0m\u001b[0;34m)\u001b[0m\u001b[0;34m\u001b[0m\u001b[0;34m\u001b[0m\u001b[0m\n\u001b[1;32m    465\u001b[0m                 \u001b[0mself\u001b[0m\u001b[0;34m.\u001b[0m\u001b[0mcount\u001b[0m\u001b[0;34m[\u001b[0m\u001b[0;36m0\u001b[0m\u001b[0;34m]\u001b[0m \u001b[0;34m=\u001b[0m \u001b[0;36m0\u001b[0m\u001b[0;34m\u001b[0m\u001b[0;34m\u001b[0m\u001b[0m\n",
      "\u001b[0;32m~/opt/anaconda3/lib/python3.9/genericpath.py\u001b[0m in \u001b[0;36mexists\u001b[0;34m(path)\u001b[0m\n\u001b[1;32m     17\u001b[0m     \u001b[0;34m\"\"\"Test whether a path exists.  Returns False for broken symbolic links\"\"\"\u001b[0m\u001b[0;34m\u001b[0m\u001b[0;34m\u001b[0m\u001b[0m\n\u001b[1;32m     18\u001b[0m     \u001b[0;32mtry\u001b[0m\u001b[0;34m:\u001b[0m\u001b[0;34m\u001b[0m\u001b[0;34m\u001b[0m\u001b[0m\n\u001b[0;32m---> 19\u001b[0;31m         \u001b[0mos\u001b[0m\u001b[0;34m.\u001b[0m\u001b[0mstat\u001b[0m\u001b[0;34m(\u001b[0m\u001b[0mpath\u001b[0m\u001b[0;34m)\u001b[0m\u001b[0;34m\u001b[0m\u001b[0;34m\u001b[0m\u001b[0m\n\u001b[0m\u001b[1;32m     20\u001b[0m     \u001b[0;32mexcept\u001b[0m \u001b[0;34m(\u001b[0m\u001b[0mOSError\u001b[0m\u001b[0;34m,\u001b[0m \u001b[0mValueError\u001b[0m\u001b[0;34m)\u001b[0m\u001b[0;34m:\u001b[0m\u001b[0;34m\u001b[0m\u001b[0;34m\u001b[0m\u001b[0m\n\u001b[1;32m     21\u001b[0m         \u001b[0;32mreturn\u001b[0m \u001b[0;32mFalse\u001b[0m\u001b[0;34m\u001b[0m\u001b[0;34m\u001b[0m\u001b[0m\n",
      "\u001b[0;31mKeyboardInterrupt\u001b[0m: "
     ]
    }
   ],
   "source": [
    "vis.generate_formula(\"Data_CT\", 100, 5000000000)\n"
   ]
  },
  {
   "cell_type": "code",
   "execution_count": 7,
   "metadata": {},
   "outputs": [
    {
     "data": {
      "text/plain": [
       "<bound method Formula_generator.__generation_method_2 of <generator.Formula_generator object at 0x7fb5704180a0>>"
      ]
     },
     "execution_count": 7,
     "metadata": {},
     "output_type": "execute_result"
    }
   ],
   "source": [
    "vis.generation_method"
   ]
  },
  {
   "cell_type": "code",
   "execution_count": 8,
   "metadata": {},
   "outputs": [
    {
     "data": {
      "text/plain": [
       "True"
      ]
     },
     "execution_count": 8,
     "metadata": {},
     "output_type": "execute_result"
    }
   ],
   "source": [
    "'2' in str(vis.generation_method)[:60]"
   ]
  },
  {
   "cell_type": "code",
   "execution_count": 9,
   "metadata": {},
   "outputs": [
    {
     "data": {
      "text/plain": [
       "array([         0,        100,          0, 5000000000])"
      ]
     },
     "execution_count": 9,
     "metadata": {},
     "output_type": "execute_result"
    }
   ],
   "source": [
    "vis.count"
   ]
  },
  {
   "cell_type": "code",
   "execution_count": 10,
   "metadata": {},
   "outputs": [],
   "source": [
    "l = ['(-0/1) - ((-1/0) * ((-1/0) / (-0/1)))', '(-0/1) - ((-1/0) * ((+1/0) / (+0/1)))', '(-0/1) - ((+1/0) / ((-0/1) * (+0/1)))', '(-0/1) - ((+1/0) / ((+0/1) * (-0/1)))', '(+0/1) - ((-0/1) * ((-1/0) / (-0/1)))', '(+0/1) - ((-0/1) * ((+1/0) / (+0/1)))', '(+0/1) - ((+0/1) / ((-0/1) * (+0/1)))', '(+0/1) - ((+0/1) / ((+0/1) * (-0/1)))', '(+0/1) - ((-1/0) * ((-1/0) / (-0/1)))', '(+0/1) - ((-1/0) * ((+1/0) / (+0/1)))', '(+0/1) - ((+1/0) / ((-0/1) * (+0/1)))', '(+0/1) - ((+1/0) / ((+0/1) * (-0/1)))', '(-1/0) - ((-1/0) * ((-1/0) / (-0/1)))', '(-1/0) - ((-1/0) * ((+1/0) / (+0/1)))', '(-1/0) - ((+1/0) / ((-0/1) * (+0/1)))', '(-1/0) - ((+1/0) / ((+0/1) * (-0/1)))', '(+1/0) - ((-0/1) * ((-1/0) / (-0/1)))', '(+1/0) - ((-0/1) * ((+1/0) / (+0/1)))', '(+1/0) - ((+0/1) / ((-0/1) * (+0/1)))', '(+1/0) - ((+0/1) / ((+0/1) * (-0/1)))', '(+1/0) - ((-1/0) * ((-1/0) / (-0/1)))', '(+1/0) - ((-1/0) * ((+1/0) / (+0/1)))', '(+1/0) - ((+1/0) / ((-0/1) * (+0/1)))', '(+1/0) - ((+1/0) / ((+0/1) * (-0/1)))']\n",
    "\n"
   ]
  },
  {
   "cell_type": "code",
   "execution_count": 11,
   "metadata": {},
   "outputs": [
    {
     "data": {
      "text/plain": [
       "24"
      ]
     },
     "execution_count": 11,
     "metadata": {},
     "output_type": "execute_result"
    }
   ],
   "source": [
    "len(l)"
   ]
  },
  {
   "cell_type": "code",
   "execution_count": 12,
   "metadata": {},
   "outputs": [],
   "source": [
    "k = (set(['(-0/1) - ((-1/0) * ((-1/0) / (-0/1)))', '(-0/1) - ((-1/0) * ((+1/0) / (+0/1)))', '(-0/1) - ((+1/0) / ((-0/1) * (+0/1)))', '(-0/1) - ((+1/0) / ((+0/1) * (-0/1)))', '(+0/1) - ((-0/1) * ((-1/0) / (-0/1)))', '(+0/1) - ((-0/1) * ((+1/0) / (+0/1)))', '(+0/1) - ((+0/1) / ((-0/1) * (+0/1)))', '(+0/1) - ((+0/1) / ((+0/1) * (-0/1)))', '(+0/1) - ((-1/0) * ((-1/0) / (-0/1)))', '(+0/1) - ((-1/0) * ((+1/0) / (+0/1)))', '(+0/1) - ((+1/0) / ((-0/1) * (+0/1)))', '(+0/1) - ((+1/0) / ((+0/1) * (-0/1)))', '(-1/0) - ((-1/0) * ((-1/0) / (-0/1)))', '(-1/0) - ((-1/0) * ((+1/0) / (+0/1)))', '(-1/0) - ((+1/0) / ((-0/1) * (+0/1)))', '(-1/0) - ((+1/0) / ((+0/1) * (-0/1)))', '(+1/0) - ((-0/1) * ((-1/0) / (-0/1)))', '(+1/0) - ((-0/1) * ((+1/0) / (+0/1)))', '(+1/0) - ((+0/1) / ((-0/1) * (+0/1)))', '(+1/0) - ((+0/1) / ((+0/1) * (-0/1)))', '(+1/0) - ((-1/0) * ((-1/0) / (-0/1)))', '(+1/0) - ((-1/0) * ((+1/0) / (+0/1)))', '(+1/0) - ((+1/0) / ((-0/1) * (+0/1)))', '(+1/0) - ((+1/0) / ((+0/1) * (-0/1)))']))\n"
   ]
  },
  {
   "cell_type": "code",
   "execution_count": 13,
   "metadata": {},
   "outputs": [
    {
     "name": "stdout",
     "output_type": "stream",
     "text": [
      "24\n"
     ]
    }
   ],
   "source": [
    "kl = 0 \n",
    "for i in k:\n",
    "    if i in l:\n",
    "        kl +=1 \n",
    "    if i not in l:\n",
    "        print(i)\n",
    "print(kl)"
   ]
  },
  {
   "cell_type": "code",
   "execution_count": 14,
   "metadata": {},
   "outputs": [
    {
     "data": {
      "text/plain": [
       "array([[ 0.06497323, -0.00631566,  0.03865988, ...,  0.01690101,\n",
       "         0.03828519,  0.03856156],\n",
       "       [ 0.87481479,  1.24790156,  0.78220326, ...,  0.32112646,\n",
       "         0.17861851,  0.25564865]])"
      ]
     },
     "execution_count": 14,
     "metadata": {},
     "output_type": "execute_result"
    }
   ],
   "source": [
    "vis.OPERAND"
   ]
  },
  {
   "cell_type": "code",
   "execution_count": 15,
   "metadata": {},
   "outputs": [
    {
     "data": {
      "text/plain": [
       "array([-0.87481479, -1.24790156, -0.78220326, ..., -0.32112646,\n",
       "       -0.17861851, -0.25564865])"
      ]
     },
     "execution_count": 15,
     "metadata": {},
     "output_type": "execute_result"
    }
   ],
   "source": [
    "-vis.OPERAND[1]"
   ]
  },
  {
   "cell_type": "code",
   "execution_count": 16,
   "metadata": {},
   "outputs": [
    {
     "name": "stdout",
     "output_type": "stream",
     "text": [
      "[-0.43740739 -0.62395078 -0.39110163 ... -0.16056323 -0.08930926\n",
      " -0.12782433]\n"
     ]
    }
   ],
   "source": [
    "expression = '-1/2'\n",
    "\n",
    "weight = np.zeros(vis.OPERAND.shape[1])\n",
    "operands = {}\n",
    "for i, operand in enumerate(vis.OPERAND):\n",
    "    operands[f'A{i}'] = operand\n",
    "\n",
    "# Replace numbers with corresponding variable names\n",
    "for i, operand in enumerate(operands):\n",
    "    \n",
    "    expression = expression.replace(str(i), operand)\n",
    "\n",
    "# Evaluate the expression\n",
    "result = eval(expression, {}, operands)\n",
    "weight+=result\n",
    "print(weight)"
   ]
  },
  {
   "cell_type": "code",
   "execution_count": 17,
   "metadata": {},
   "outputs": [
    {
     "ename": "IndexError",
     "evalue": "index 2 is out of bounds for axis 0 with size 2",
     "output_type": "error",
     "traceback": [
      "\u001b[0;31m---------------------------------------------------------------------------\u001b[0m",
      "\u001b[0;31mIndexError\u001b[0m                                Traceback (most recent call last)",
      "\u001b[0;32m/var/folders/ds/4lcv95w11y7brm6dqhc04s240000gn/T/ipykernel_24167/940118987.py\u001b[0m in \u001b[0;36m<module>\u001b[0;34m\u001b[0m\n\u001b[0;32m----> 1\u001b[0;31m \u001b[0;34m-\u001b[0m\u001b[0mvis\u001b[0m\u001b[0;34m.\u001b[0m\u001b[0mOPERAND\u001b[0m\u001b[0;34m[\u001b[0m\u001b[0;36m1\u001b[0m\u001b[0;34m]\u001b[0m\u001b[0;34m/\u001b[0m\u001b[0mvis\u001b[0m\u001b[0;34m.\u001b[0m\u001b[0mOPERAND\u001b[0m\u001b[0;34m[\u001b[0m\u001b[0;36m2\u001b[0m\u001b[0;34m]\u001b[0m\u001b[0;34m\u001b[0m\u001b[0;34m\u001b[0m\u001b[0m\n\u001b[0m",
      "\u001b[0;31mIndexError\u001b[0m: index 2 is out of bounds for axis 0 with size 2"
     ]
    }
   ],
   "source": [
    "-vis.OPERAND[1]/vis.OPERAND[2]"
   ]
  },
  {
   "cell_type": "code",
   "execution_count": null,
   "metadata": {},
   "outputs": [
    {
     "name": "stdout",
     "output_type": "stream",
     "text": [
      "-1/2\n",
      "[0.31887778 0.39693847 0.1091497  ... 0.06552784 0.03293761 0.07028022]\n",
      "[0.15996809 0.54479089 0.02084284 ... 0.48107391 0.05940226 0.11634382]\n",
      "[0.33694847 0.16848317 0.50872368 ... 1.3094114  0.01012113 0.07169651]\n",
      "[0.5264463  0.03560391 0.13533317 ... 1.61369785 0.19976527 0.24447098]\n",
      "[2.1097391  0.86121279 0.55345992 ... 2.40196141 0.77384235 0.74539669]\n",
      "[0.20872438 0.04798185 0.06777231 ... 0.3055042  0.10107666 0.13963524]\n",
      "[ 0.06497323 -0.00631566  0.03865988 ...  0.01690101  0.03828519\n",
      "  0.03856156]\n",
      "[0.0519885  0.00144815 0.03370255 ... 0.0179507  0.04272564 0.03440913]\n",
      "[0.87481479 1.24790156 0.78220326 ... 0.32112646 0.17861851 0.25564865]\n",
      "-1/2\n",
      "-0.5\n"
     ]
    }
   ],
   "source": [
    "expression = '-1/2'\n",
    "\n",
    "columns = len(vis.OPERAND)\n",
    "for i in range(columns):\n",
    "    column_variable = \"{}\".format(i)\n",
    "    expression = expression.replace(str(i), column_variable)\n",
    "print(expression)\n",
    "for i, column_value in enumerate(vis.OPERAND):\n",
    "    column_variable = \"A{}\".format(i)\n",
    "    expression = expression.replace(column_variable, str(column_value))\n",
    "    print(column_value)\n",
    "print(expression)\n",
    "result = eval(expression)\n",
    "print(result)"
   ]
  },
  {
   "cell_type": "code",
   "execution_count": null,
   "metadata": {},
   "outputs": [
    {
     "data": {
      "text/plain": [
       "array([  0, 100, 201, 500])"
      ]
     },
     "execution_count": 10,
     "metadata": {},
     "output_type": "execute_result"
    }
   ],
   "source": [
    "vis.count"
   ]
  },
  {
   "cell_type": "code",
   "execution_count": null,
   "metadata": {},
   "outputs": [],
   "source": [
    "import pickle\n",
    "with open('state.pkl', 'rb') as file:\n",
    "    state = pickle.load(file)\n",
    "F_new_formula = state['F_new_formula']\n",
    "current_formula1 = state['current_formula1']\n",
    "current_formula2 = state['current_formula2']\n",
    "current_operator = state['current_operator']\n",
    "F_thu = state['operand']\n",
    "F2 = state['F_current']"
   ]
  },
  {
   "cell_type": "code",
   "execution_count": null,
   "metadata": {},
   "outputs": [
    {
     "data": {
      "text/plain": [
       "['(0/1) + ((0/1) / (3/4))']"
      ]
     },
     "execution_count": 9,
     "metadata": {},
     "output_type": "execute_result"
    }
   ],
   "source": [
    "F2"
   ]
  },
  {
   "cell_type": "code",
   "execution_count": null,
   "metadata": {},
   "outputs": [
    {
     "data": {
      "text/plain": [
       "54"
      ]
     },
     "execution_count": 7,
     "metadata": {},
     "output_type": "execute_result"
    }
   ],
   "source": [
    "current_formula2"
   ]
  },
  {
   "cell_type": "code",
   "execution_count": null,
   "metadata": {},
   "outputs": [
    {
     "data": {
      "text/plain": [
       "0"
      ]
     },
     "execution_count": 12,
     "metadata": {},
     "output_type": "execute_result"
    }
   ],
   "source": [
    "current_operator"
   ]
  },
  {
   "cell_type": "code",
   "execution_count": null,
   "metadata": {},
   "outputs": [
    {
     "data": {
      "text/plain": [
       "0"
      ]
     },
     "execution_count": 10,
     "metadata": {},
     "output_type": "execute_result"
    }
   ],
   "source": [
    "current_formula1"
   ]
  },
  {
   "cell_type": "code",
   "execution_count": null,
   "metadata": {},
   "outputs": [
    {
     "name": "stdout",
     "output_type": "stream",
     "text": [
      "/Users/trancatkhanh/Desktop/Data_CT\n"
     ]
    }
   ],
   "source": [
    "%cd /Users/trancatkhanh/Desktop/Data_CT"
   ]
  },
  {
   "cell_type": "code",
   "execution_count": null,
   "metadata": {},
   "outputs": [],
   "source": [
    "import pandas as pd\n",
    "import os\n",
    "directory = '/Users/trancatkhanh/Desktop/Data_CT/'\n",
    "merged_data = pd.DataFrame()\n",
    "for filename in os.listdir(directory):\n",
    "    if filename.endswith(\".csv\"):\n",
    "        file_path = os.path.join(directory, filename)\n",
    "        df = pd.read_csv(file_path)\n",
    "        merged_data = pd.concat([merged_data, df])\n",
    "merged_data = merged_data.drop_duplicates()\n",
    "merged_data = merged_data.reset_index(drop=True)\n",
    "merged_data.to_csv('F10.csv', index=False)\n"
   ]
  },
  {
   "cell_type": "code",
   "execution_count": null,
   "metadata": {},
   "outputs": [
    {
     "data": {
      "text/plain": [
       "37"
      ]
     },
     "execution_count": 24,
     "metadata": {},
     "output_type": "execute_result"
    }
   ],
   "source": [
    "len('(+1/0) - ((-0/1) * ((-1/0) / (-0/1)))')"
   ]
  },
  {
   "cell_type": "code",
   "execution_count": null,
   "metadata": {},
   "outputs": [
    {
     "data": {
      "text/plain": [
       "48"
      ]
     },
     "execution_count": 31,
     "metadata": {},
     "output_type": "execute_result"
    }
   ],
   "source": [
    "len(unique_values[1])"
   ]
  },
  {
   "cell_type": "code",
   "execution_count": null,
   "metadata": {},
   "outputs": [
    {
     "name": "stdout",
     "output_type": "stream",
     "text": [
      "(+1/0) - ((-0/1) * ((-1/0) / (-0/1)))\n",
      "(+1/0) - ((-0/1) * ((+1/0) / (+0/1)))\n",
      "(+1/0) - ((+0/1) / ((-0/1) * (+0/1)))\n",
      "(+1/0) - ((+0/1) / ((+0/1) * (-0/1)))\n",
      "(+1/0) - ((-1/0) * ((-1/0) / (-0/1)))\n",
      "(+1/0) - ((-1/0) * ((+1/0) / (+0/1)))\n",
      "(+1/0) - ((+1/0) / ((-0/1) * (+0/1)))\n",
      "(+1/0) - ((+1/0) / ((+0/1) * (-0/1)))\n",
      "(-0/1) - ((-1/0) * ((-1/0) / (-0/1)))\n",
      "(-0/1) - ((-1/0) * ((+1/0) / (+0/1)))\n",
      "(-0/1) - ((+1/0) / ((-0/1) * (+0/1)))\n",
      "(-0/1) - ((+1/0) / ((+0/1) * (-0/1)))\n",
      "(+0/1) - ((-0/1) * ((-1/0) / (-0/1)))\n",
      "(+0/1) - ((-0/1) * ((+1/0) / (+0/1)))\n",
      "(+0/1) - ((+0/1) / ((-0/1) * (+0/1)))\n",
      "(+0/1) - ((+0/1) / ((+0/1) * (-0/1)))\n",
      "(+0/1) - ((-1/0) * ((-1/0) / (-0/1)))\n",
      "(+0/1) - ((-1/0) * ((+1/0) / (+0/1)))\n",
      "(+0/1) - ((+1/0) / ((-0/1) * (+0/1)))\n",
      "(+0/1) - ((+1/0) / ((+0/1) * (-0/1)))\n",
      "(-1/0) - ((-1/0) * ((-1/0) / (-0/1)))\n",
      "(-1/0) - ((-1/0) * ((+1/0) / (+0/1)))\n",
      "(-1/0) - ((+1/0) / ((-0/1) * (+0/1)))\n",
      "(-1/0) - ((+1/0) / ((+0/1) * (-0/1)))\n",
      "24\n"
     ]
    }
   ],
   "source": [
    "df1 = pd.read_csv('/Users/trancatkhanh/Desktop/Data_CT/merged_data.csv')\n",
    "unique_values = df1['formula'].unique()\n",
    "l = 0\n",
    "for i in (unique_values):\n",
    "    if len(i)==37:\n",
    "        l +=1\n",
    "        print(i)\n",
    "print\n"
   ]
  },
  {
   "cell_type": "code",
   "execution_count": null,
   "metadata": {},
   "outputs": [],
   "source": []
  }
 ],
 "metadata": {
  "kernelspec": {
   "display_name": "base",
   "language": "python",
   "name": "python3"
  },
  "language_info": {
   "codemirror_mode": {
    "name": "ipython",
    "version": 3
   },
   "file_extension": ".py",
   "mimetype": "text/x-python",
   "name": "python",
   "nbconvert_exporter": "python",
   "pygments_lexer": "ipython3",
   "version": "3.9.7"
  },
  "orig_nbformat": 4
 },
 "nbformat": 4,
 "nbformat_minor": 2
}
