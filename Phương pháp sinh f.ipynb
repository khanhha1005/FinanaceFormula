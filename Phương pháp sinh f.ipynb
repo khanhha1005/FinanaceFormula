{
 "cells": [
  {
   "attachments": {},
   "cell_type": "markdown",
   "metadata": {},
   "source": [
    "# Mô tả thuật toán \n",
    "\n",
    "Thuật toán \"Evolutionary Algorithm\" (EA)\n",
    "\n",
    "Dưới đây là một phiên bản đơn giản của thuật toán EA dựa trên mô tả của bạn:\n",
    "\n",
    "1.Khởi tạo thế hệ ban đầu F0 với các công thức ngẫu nhiên.\n",
    "\n",
    "2.Tính toán giá trị trung bình của mỗi công thức trong F0 và gán cho max_F.\n",
    "\n",
    "3.Lặp lại các bước 4-7 cho mỗi thế hệ từ F0 đến Fn (trừ khi không thêm được công thức nào vào F_(n+1) nữa).\n",
    "\n",
    "4.Ghép từng công thức trong F0 với công thức khác bằng toán tử +-*/ để tạo ra các công thức mới.\n",
    "\n",
    "5.Tính toán giá trị trung bình của mỗi công thức mới và so sánh với max_F.\n",
    "\n",
    "6.Nếu giá trị trung bình của công thức mới tốt hơn max_F, lưu công thức đó vào tệp công thức F1 và cập nhật max_F.\n",
    "\n",
    "7.Kiểm tra điều kiện kết thúc: nếu không thêm được công thức nào mới vào F_(n+1), dừng thuật toán và trả về max_F.\n",
    "\n",
    "8.Gán F_(n+1) bằng F1 và quay lại bước 4."
   ]
  },
  {
   "cell_type": "code",
   "execution_count": null,
   "metadata": {},
   "outputs": [],
   "source": [
    "import random\n",
    "import pickle\n",
    "\n",
    "# Function to calculate the average value of a formula\n",
    "def calculate_average(formula):\n",
    "    average_value = random.randint(0,200)  # Example: Return a random integer between 0 and200\n",
    "    return average_value\n",
    "\n",
    "def generate_random_formula(F):\n",
    "    term = F \n",
    "    total_formulas = []\n",
    "    formula = term\n",
    "    for i in term:\n",
    "        for j in term:\n",
    "            if i != j:\n",
    "                formula = f\"{i}:{j}\"  # Append the operator and term to the formula\n",
    "                total_formulas.append(formula)\n",
    "    return total_formulas\n",
    "\n",
    "# Function to combine formulas using operators +-*/\n",
    "def combine_formulas(formula1, formula2, operator):\n",
    "    combined_formula = f\"({formula1}) {operator} ({formula2})\"  \n",
    "    return combined_formula\n",
    "\n",
    "# Sinh F1 tới Fn\n",
    "try:\n",
    "    with open('state.pkl', 'rb') as file:\n",
    "        state = pickle.load(file)\n",
    "    F_new_formula = state['F_new_formula']\n",
    "    current_formula1 = state['current_formula1']\n",
    "    current_formula2 = state['current_formula2']\n",
    "    current_operator = state['current_operator']\n",
    "    F_thu = state['operand']\n",
    "    F2 = state['F_current']\n",
    "except FileNotFoundError:\n",
    "    F_intital  = ['A','B','C'] \n",
    "    print(\"No saved variables found. Running from the beginning.\")\n",
    "    # If the saved state doesn't exist, start from scratch\n",
    "    F0 = generate_random_formula(F_intital)\n",
    "    F_new_formula = generate_random_formula(F_intital)\n",
    "    F2 = []\n",
    "    F_thu = 0\n",
    "    current_formula1 = 0\n",
    "    current_formula2 = 0\n",
    "    current_operator = 0\n",
    "\n",
    "while True:\n",
    "    F_thu += 1\n",
    "    F1 = [] \n",
    "    if current_formula1 == len(F0) -1 :\n",
    "        current_formula1 = 0\n",
    "    for formula1 in range(current_formula1,len(F0)):\n",
    "        if current_formula2 == len(F_new_formula) -1:\n",
    "           current_formula2 = 0\n",
    "        for formula2 in range(current_formula2,len(F_new_formula)):\n",
    " \n",
    "            if F0[formula1] != F_new_formula[formula2]:\n",
    "                operators = ['+', '-', 'x', ':'] \n",
    "\n",
    "                for operator in range(current_operator,len(operators)):\n",
    "                    combined_formula = combine_formulas(F0[formula1], F_new_formula[formula2], operators[operator])\n",
    "                    if combined_formula not in F2 and calculate_average(F_new_formula[formula2])<calculate_average(combined_formula) :\n",
    "                      F1.append(combined_formula)\n",
    "\n",
    "                    if combined_formula not in F2: \n",
    "                      F2.append(combined_formula)\n",
    "                      print(combined_formula)\n",
    "\n",
    "                    current_formula1 = formula1\n",
    "                    current_formula2 = formula2\n",
    "                    current_operator = operator\n",
    "                    current_operator += 1\n",
    "                    if current_operator > 3 : \n",
    "                      current_operator = 0 \n",
    "    if len(F1) == 0:\n",
    "        break\n",
    "    F_new_formula = F1\n",
    "    F2 = []\n",
    "    # Save the current state\n",
    "\n",
    "state = {\n",
    "    'F_new_formula': F_new_formula,\n",
    "    'current_formula1': current_formula1,\n",
    "    'current_formula2': current_formula2,\n",
    "    'current_operator': current_operator,\n",
    "    'operand': F_thu,\n",
    "    'F_current':F2\n",
    "}\n",
    "with open('state.pkl', 'wb') as file:\n",
    "    pickle.dump(state, file)\n",
    "\n",
    "\n",
    "\n"
   ]
  },
  {
   "cell_type": "code",
   "execution_count": 4,
   "metadata": {},
   "outputs": [
    {
     "data": {
      "text/plain": [
       "'(incomplete face, (scribble,((poorly drawn face, ((different faces, different characters, more than one character, | (((disfigured, dead,((blurry, (((incorrect,disconnected limbs, | ((((mutated hands and fingers, missing limbs, (((fake leg, (body merged,((floating,((((discontinuous fingers, (low quality ,(((amateur work, disjointed'"
      ]
     },
     "execution_count": 4,
     "metadata": {},
     "output_type": "execute_result"
    }
   ],
   "source": [
    "l = str('(incomplete face), (scribble),((poorly drawn face)), ((different faces, different characters, more than one character)), | (((disfigured))), dead,((blurry)), (((incorrect))),disconnected limbs, | ((((mutated hands and fingers)))), missing limbs, (((fake leg))), (body merged),((floating)),((((discontinuous fingers)))), (low quality))) ,(((amateur work))), disjointed')\n",
    "l.replace('(','')\n",
    "l.replace(')','')"
   ]
  },
  {
   "cell_type": "code",
   "execution_count": 7,
   "metadata": {},
   "outputs": [],
   "source": [
    "k =l.replace('(','')"
   ]
  },
  {
   "cell_type": "code",
   "execution_count": 8,
   "metadata": {},
   "outputs": [
    {
     "data": {
      "text/plain": [
       "'incomplete face, scribble,poorly drawn face, different faces, different characters, more than one character, | disfigured, dead,blurry, incorrect,disconnected limbs, | mutated hands and fingers, missing limbs, fake leg, body merged,floating,discontinuous fingers, low quality ,amateur work, disjointed'"
      ]
     },
     "execution_count": 8,
     "metadata": {},
     "output_type": "execute_result"
    }
   ],
   "source": [
    "k.replace(')','')"
   ]
  },
  {
   "cell_type": "code",
   "execution_count": null,
   "metadata": {},
   "outputs": [],
   "source": [
    "a young china beautiful face person, brown eye,  a pink haired , straight nose, small ears, and pose reference, high resolution\n"
   ]
  },
  {
   "cell_type": "code",
   "execution_count": 9,
   "metadata": {},
   "outputs": [
    {
     "name": "stdout",
     "output_type": "stream",
     "text": [
      "Đang nhân bản thành “stable-diffusion-webui”…\n",
      "remote: Enumerating objects: 22417, done.\u001b[K\n",
      "remote: Counting objects: 100% (12/12), done.\u001b[K\n",
      "remote: Compressing objects: 100% (11/11), done.\u001b[K\n",
      "error: RPC gặp lỗi; curl 56 Recv failure: Operation timed out7.00 KiB/giây \n",
      "error: phần thân vẫn còn cần 6858 byte\n",
      "fetch-pack: unexpected disconnect while reading sideband packet\n",
      "fatal: gặp kết thúc tập tin EOF quá sớm\n",
      "fatal: fetch-pack: kết xuất index-pack không hợp lệ\n"
     ]
    }
   ],
   "source": [
    "!git clone https://github.com/AUTOMATIC1111/stable-diffusion-webui"
   ]
  },
  {
   "cell_type": "code",
   "execution_count": 6,
   "metadata": {},
   "outputs": [],
   "source": [
    "def generate_random_formula(F):\n",
    "    term = F \n",
    "    total_formulas = []\n",
    "    formula = term\n",
    "    for i in term:\n",
    "        for j in term:\n",
    "            for k in ['-','+']:\n",
    "                if i != j:\n",
    "                    formula = f\"{k}{i}/{j}\"  # Append the operator and term to the formula\n",
    "                    total_formulas.append(formula)\n",
    "    return total_formulas\n"
   ]
  },
  {
   "cell_type": "code",
   "execution_count": 8,
   "metadata": {},
   "outputs": [
    {
     "data": {
      "text/plain": [
       "['-0/1',\n",
       " '+0/1',\n",
       " '-0/2',\n",
       " '+0/2',\n",
       " '-0/3',\n",
       " '+0/3',\n",
       " '-0/4',\n",
       " '+0/4',\n",
       " '-0/5',\n",
       " '+0/5',\n",
       " '-0/6',\n",
       " '+0/6',\n",
       " '-0/7',\n",
       " '+0/7',\n",
       " '-0/8',\n",
       " '+0/8',\n",
       " '-1/0',\n",
       " '+1/0',\n",
       " '-1/2',\n",
       " '+1/2',\n",
       " '-1/3',\n",
       " '+1/3',\n",
       " '-1/4',\n",
       " '+1/4',\n",
       " '-1/5',\n",
       " '+1/5',\n",
       " '-1/6',\n",
       " '+1/6',\n",
       " '-1/7',\n",
       " '+1/7',\n",
       " '-1/8',\n",
       " '+1/8',\n",
       " '-2/0',\n",
       " '+2/0',\n",
       " '-2/1',\n",
       " '+2/1',\n",
       " '-2/3',\n",
       " '+2/3',\n",
       " '-2/4',\n",
       " '+2/4',\n",
       " '-2/5',\n",
       " '+2/5',\n",
       " '-2/6',\n",
       " '+2/6',\n",
       " '-2/7',\n",
       " '+2/7',\n",
       " '-2/8',\n",
       " '+2/8',\n",
       " '-3/0',\n",
       " '+3/0',\n",
       " '-3/1',\n",
       " '+3/1',\n",
       " '-3/2',\n",
       " '+3/2',\n",
       " '-3/4',\n",
       " '+3/4',\n",
       " '-3/5',\n",
       " '+3/5',\n",
       " '-3/6',\n",
       " '+3/6',\n",
       " '-3/7',\n",
       " '+3/7',\n",
       " '-3/8',\n",
       " '+3/8',\n",
       " '-4/0',\n",
       " '+4/0',\n",
       " '-4/1',\n",
       " '+4/1',\n",
       " '-4/2',\n",
       " '+4/2',\n",
       " '-4/3',\n",
       " '+4/3',\n",
       " '-4/5',\n",
       " '+4/5',\n",
       " '-4/6',\n",
       " '+4/6',\n",
       " '-4/7',\n",
       " '+4/7',\n",
       " '-4/8',\n",
       " '+4/8',\n",
       " '-5/0',\n",
       " '+5/0',\n",
       " '-5/1',\n",
       " '+5/1',\n",
       " '-5/2',\n",
       " '+5/2',\n",
       " '-5/3',\n",
       " '+5/3',\n",
       " '-5/4',\n",
       " '+5/4',\n",
       " '-5/6',\n",
       " '+5/6',\n",
       " '-5/7',\n",
       " '+5/7',\n",
       " '-5/8',\n",
       " '+5/8',\n",
       " '-6/0',\n",
       " '+6/0',\n",
       " '-6/1',\n",
       " '+6/1',\n",
       " '-6/2',\n",
       " '+6/2',\n",
       " '-6/3',\n",
       " '+6/3',\n",
       " '-6/4',\n",
       " '+6/4',\n",
       " '-6/5',\n",
       " '+6/5',\n",
       " '-6/7',\n",
       " '+6/7',\n",
       " '-6/8',\n",
       " '+6/8',\n",
       " '-7/0',\n",
       " '+7/0',\n",
       " '-7/1',\n",
       " '+7/1',\n",
       " '-7/2',\n",
       " '+7/2',\n",
       " '-7/3',\n",
       " '+7/3',\n",
       " '-7/4',\n",
       " '+7/4',\n",
       " '-7/5',\n",
       " '+7/5',\n",
       " '-7/6',\n",
       " '+7/6',\n",
       " '-7/8',\n",
       " '+7/8',\n",
       " '-8/0',\n",
       " '+8/0',\n",
       " '-8/1',\n",
       " '+8/1',\n",
       " '-8/2',\n",
       " '+8/2',\n",
       " '-8/3',\n",
       " '+8/3',\n",
       " '-8/4',\n",
       " '+8/4',\n",
       " '-8/5',\n",
       " '+8/5',\n",
       " '-8/6',\n",
       " '+8/6',\n",
       " '-8/7',\n",
       " '+8/7']"
      ]
     },
     "execution_count": 8,
     "metadata": {},
     "output_type": "execute_result"
    }
   ],
   "source": [
    "(generate_random_formula([str(i) for i in range(0,9)]))"
   ]
  },
  {
   "cell_type": "code",
   "execution_count": null,
   "metadata": {},
   "outputs": [],
   "source": [
    "144"
   ]
  },
  {
   "cell_type": "code",
   "execution_count": 9,
   "metadata": {},
   "outputs": [],
   "source": [
    "l =['-0/1',\n",
    " '+0/1',\n",
    " '-0/2',\n",
    " '+0/2',\n",
    " '-0/3',\n",
    " '+0/3',\n",
    " '-0/4',\n",
    " '+0/4',\n",
    " '-0/5',\n",
    " '+0/5',\n",
    " '-0/6',\n",
    " '+0/6',\n",
    " '-0/7',\n",
    " '+0/7',\n",
    " '-0/8',\n",
    " '+0/8',\n",
    " '-1/0',\n",
    " '+1/0',\n",
    " '-1/2',\n",
    " '+1/2',\n",
    " '-1/3',\n",
    " '+1/3',\n",
    " '-1/4',\n",
    " '+1/4',\n",
    " '-1/5',\n",
    " '+1/5']"
   ]
  },
  {
   "cell_type": "code",
   "execution_count": 10,
   "metadata": {},
   "outputs": [
    {
     "data": {
      "text/plain": [
       "26"
      ]
     },
     "execution_count": 10,
     "metadata": {},
     "output_type": "execute_result"
    }
   ],
   "source": [
    "len(l)"
   ]
  },
  {
   "cell_type": "code",
   "execution_count": null,
   "metadata": {},
   "outputs": [],
   "source": []
  }
 ],
 "metadata": {
  "kernelspec": {
   "display_name": "base",
   "language": "python",
   "name": "python3"
  },
  "language_info": {
   "codemirror_mode": {
    "name": "ipython",
    "version": 3
   },
   "file_extension": ".py",
   "mimetype": "text/x-python",
   "name": "python",
   "nbconvert_exporter": "python",
   "pygments_lexer": "ipython3",
   "version": "3.9.7"
  },
  "orig_nbformat": 4
 },
 "nbformat": 4,
 "nbformat_minor": 2
}
