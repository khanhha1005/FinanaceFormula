{
 "cells": [
  {
   "attachments": {},
   "cell_type": "markdown",
   "metadata": {},
   "source": [
    "# Mô tả thuật toán \n",
    "\n",
    " thuật toán \"Evolutionary Algorithm\" (EA). EA là một phương pháp tìm kiếm tối ưu dựa trên cơ chế tiến hóa trong tự nhiên.\n",
    "\n",
    "Dưới đây là một phiên bản đơn giản của thuật toán EA dựa trên mô tả của bạn:\n",
    "\n",
    "1.Khởi tạo thế hệ ban đầu F0 với các công thức ngẫu nhiên.\n",
    "\n",
    "2.Tính toán giá trị trung bình của mỗi công thức trong F0 và gán cho max_F.\n",
    "\n",
    "3.Lặp lại các bước 4-7 cho mỗi thế hệ từ F0 đến Fn (trừ khi không thêm được công thức nào vào F_(n+1) nữa).\n",
    "\n",
    "4.Ghép từng công thức trong F0 với công thức khác bằng toán tử +-*/ để tạo ra các công thức mới.\n",
    "\n",
    "5.Tính toán giá trị trung bình của mỗi công thức mới và so sánh với max_F.\n",
    "\n",
    "6.Nếu giá trị trung bình của công thức mới tốt hơn max_F, lưu công thức đó vào tệp công thức F1 và cập nhật max_F.\n",
    "\n",
    "7.Kiểm tra điều kiện kết thúc: nếu không thêm được công thức nào mới vào F_(n+1), dừng thuật toán và trả về max_F.\n",
    "\n",
    "8.Gán F_(n+1) bằng F1 và quay lại bước 4."
   ]
  },
  {
   "cell_type": "code",
   "execution_count": 145,
   "metadata": {},
   "outputs": [
    {
     "name": "stdout",
     "output_type": "stream",
     "text": [
      "Final max_F value: 100\n",
      "Final formulas:\n",
      "( +A) + ( -A)\n",
      "( +A) x ( +B)\n",
      "( +A) x ( -B)\n"
     ]
    }
   ],
   "source": [
    "import random\n",
    "# Function to calculate the average value of a formula\n",
    "def calculate_average(formula):\n",
    "    average_value = random.randint(0, 100)  # Example: Return a random integer between 0 and 100\n",
    "    return average_value\n",
    "\n",
    "def generate_random_formula(F):\n",
    "    operators = ['+', '-'] \n",
    "    term = F \n",
    "    total_formulas = []\n",
    "    formula = term\n",
    "    for i in term:\n",
    "        for j in operators:\n",
    "            formula = f\" {j}{i}\"  # Append the operator and term to the formula\n",
    "            total_formulas.append(formula)\n",
    "    return total_formulas\n",
    "\n",
    "# Function to combine formulas using operators +-*/\n",
    "def combine_formulas(formula1, formula2, operator):\n",
    "    combined_formula = f\"({formula1}) {operator} ({formula2})\"  \n",
    "    return combined_formula\n",
    "\n",
    "\n",
    "F_intital  = ['A','B','C','D'] \n",
    "\n",
    "# Sinh F0 \n",
    "F0 = generate_random_formula(F_intital)\n",
    "F_new_formula = generate_random_formula(F_intital)\n",
    "\n",
    "\n",
    "max_F = float('-inf') \n",
    "F_new_formula = []\n",
    "while True:\n",
    "    F1 = [] \n",
    "    for formula1 in F0:\n",
    "        for formula2 in F_new_formula:\n",
    "            if formula1 != formula2:\n",
    "                operators = ['+', '-', 'x', ':'] \n",
    "                for operator in operators:\n",
    "                    combined_formula = combine_formulas(formula1, formula2, operator)\n",
    "                    \n",
    "                    # Calculate the average value of the combined formula\n",
    "                    average_value = calculate_average(combined_formula)\n",
    "                    \n",
    "                    # Check if the average value is greater than max_F\n",
    "                    if average_value > max_F:\n",
    "                        max_F = average_value\n",
    "                        F1.append(combined_formula)\n",
    "\n",
    "    if len(F1) == 0:\n",
    "        break\n",
    "    F_new_formula = F1\n",
    "\n",
    "print(\"Final max_F value:\", max_F)\n",
    "print(\"Final formulas:\")\n",
    "for formula in F0:\n",
    "    print(formula)\n"
   ]
  }
 ],
 "metadata": {
  "kernelspec": {
   "display_name": "base",
   "language": "python",
   "name": "python3"
  },
  "language_info": {
   "codemirror_mode": {
    "name": "ipython",
    "version": 3
   },
   "file_extension": ".py",
   "mimetype": "text/x-python",
   "name": "python",
   "nbconvert_exporter": "python",
   "pygments_lexer": "ipython3",
   "version": "3.9.7"
  },
  "orig_nbformat": 4
 },
 "nbformat": 4,
 "nbformat_minor": 2
}
